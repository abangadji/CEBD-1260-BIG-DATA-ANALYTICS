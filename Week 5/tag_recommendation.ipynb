{
 "cells": [
  {
   "cell_type": "code",
   "execution_count": 16,
   "metadata": {
    "collapsed": true
   },
   "outputs": [],
   "source": [
    "%matplotlib inline\n",
    "\n",
    "import pandas as pd\n",
    "import numpy as np\n",
    "import matplotlib.pyplot as plt\n",
    "import seaborn as sns\n",
    "\n",
    "from sklearn.metrics.pairwise import euclidean_distances\n",
    "from sklearn.preprocessing import StandardScaler\n",
    "\n",
    "import scipy\n",
    "import scipy.cluster.hierarchy as sch\n",
    "import collections\n",
    "import operator\n",
    "\n",
    "sns.set_style('whitegrid')"
   ]
  },
  {
   "cell_type": "markdown",
   "metadata": {},
   "source": [
    "# Load the data (Music)"
   ]
  },
  {
   "cell_type": "code",
   "execution_count": 17,
   "metadata": {},
   "outputs": [],
   "source": [
    "# df_tags = pd.read_csv('data/hetrec2011-lastfm-2k/tags.dat', sep='\\t', encoding='latin-1')\n",
    "# df_tags.columns = ['id', 'value']\n",
    "# print(df_tags.head())\n",
    "\n",
    "# df_item = pd.read_csv('data/hetrec2011-lastfm-2k/artists.dat', sep='\\t', encoding='latin-1')\n",
    "# df_item = df_item[['id', 'name']]\n",
    "# df_item.columns = ['id', 'title']\n",
    "# print(df_item.head())\n",
    "\n",
    "# df_tag_item = pd.read_csv('data/hetrec2011-lastfm-2k/user_taggedartists.dat', sep='\\t')\n",
    "# df_tag_item = df_tag_item[['artistID', 'tagID']]\n",
    "# df_tag_item.columns = ['itemID', 'tagID']\n",
    "# print(df_tag_item.head())"
   ]
  },
  {
   "cell_type": "markdown",
   "metadata": {},
   "source": [
    "# Load the data (Movies)"
   ]
  },
  {
   "cell_type": "code",
   "execution_count": 18,
   "metadata": {},
   "outputs": [
    {
     "name": "stdout",
     "output_type": "stream",
     "text": [
      "   id    value\n",
      "0   1    earth\n",
      "1   2   police\n",
      "2   3   boxing\n",
      "3   4  painter\n",
      "4   5    whale\n",
      "   id                        title\n",
      "0   1                    Toy story\n",
      "1   2                      Jumanji\n",
      "2   3               Grumpy Old Men\n",
      "3   4            Waiting to Exhale\n",
      "4   5  Father of the Bride Part II\n",
      "   itemID  tagID\n",
      "0       1      7\n",
      "1       1     13\n",
      "2       1     25\n",
      "3       1     55\n",
      "4       1     60\n"
     ]
    }
   ],
   "source": [
    "df_tags = pd.read_csv('data/hetrec2011-movielens-2k-v2/tags.dat', sep='\\t', encoding='latin-1')\n",
    "df_tags.columns = ['id', 'value']\n",
    "print(df_tags.head())\n",
    "\n",
    "df_item = pd.read_csv('data/hetrec2011-movielens-2k-v2/movies.dat', sep='\\t', encoding='latin-1')\n",
    "df_item = df_item[['id', 'title']]\n",
    "print(df_item.head())\n",
    "\n",
    "df_tag_item = pd.read_csv('data/hetrec2011-movielens-2k-v2/movie_tags.dat', sep='\\t')\n",
    "df_tag_item = df_tag_item[['movieID', 'tagID']]\n",
    "df_tag_item.columns = ['itemID', 'tagID']\n",
    "print(df_tag_item.head())"
   ]
  },
  {
   "cell_type": "code",
   "execution_count": 19,
   "metadata": {},
   "outputs": [
    {
     "data": {
      "text/html": [
       "<div>\n",
       "<table border=\"1\" class=\"dataframe\">\n",
       "  <thead>\n",
       "    <tr style=\"text-align: right;\">\n",
       "      <th></th>\n",
       "      <th>itemID</th>\n",
       "      <th>tagID</th>\n",
       "      <th>id_x</th>\n",
       "      <th>value</th>\n",
       "      <th>id_y</th>\n",
       "      <th>title</th>\n",
       "    </tr>\n",
       "  </thead>\n",
       "  <tbody>\n",
       "    <tr>\n",
       "      <th>0</th>\n",
       "      <td>1</td>\n",
       "      <td>7</td>\n",
       "      <td>7</td>\n",
       "      <td>funny</td>\n",
       "      <td>1</td>\n",
       "      <td>Toy story</td>\n",
       "    </tr>\n",
       "    <tr>\n",
       "      <th>1</th>\n",
       "      <td>1</td>\n",
       "      <td>13</td>\n",
       "      <td>13</td>\n",
       "      <td>time travel</td>\n",
       "      <td>1</td>\n",
       "      <td>Toy story</td>\n",
       "    </tr>\n",
       "    <tr>\n",
       "      <th>2</th>\n",
       "      <td>1</td>\n",
       "      <td>25</td>\n",
       "      <td>25</td>\n",
       "      <td>tim allen</td>\n",
       "      <td>1</td>\n",
       "      <td>Toy story</td>\n",
       "    </tr>\n",
       "    <tr>\n",
       "      <th>3</th>\n",
       "      <td>1</td>\n",
       "      <td>55</td>\n",
       "      <td>55</td>\n",
       "      <td>comedy</td>\n",
       "      <td>1</td>\n",
       "      <td>Toy story</td>\n",
       "    </tr>\n",
       "    <tr>\n",
       "      <th>4</th>\n",
       "      <td>1</td>\n",
       "      <td>60</td>\n",
       "      <td>60</td>\n",
       "      <td>fun</td>\n",
       "      <td>1</td>\n",
       "      <td>Toy story</td>\n",
       "    </tr>\n",
       "  </tbody>\n",
       "</table>\n",
       "</div>"
      ],
      "text/plain": [
       "   itemID  tagID  id_x        value  id_y      title\n",
       "0       1      7     7        funny     1  Toy story\n",
       "1       1     13    13  time travel     1  Toy story\n",
       "2       1     25    25    tim allen     1  Toy story\n",
       "3       1     55    55       comedy     1  Toy story\n",
       "4       1     60    60          fun     1  Toy story"
      ]
     },
     "execution_count": 19,
     "metadata": {},
     "output_type": "execute_result"
    }
   ],
   "source": [
    "# merging the files\n",
    "df_merge = df_tag_item.merge(df_tags, how='left', left_on='tagID', right_on='id')\n",
    "df_merge = df_merge.merge(df_item, how='left', left_on='itemID', right_on='id')\n",
    "df_merge.head()"
   ]
  },
  {
   "cell_type": "code",
   "execution_count": 20,
   "metadata": {},
   "outputs": [
    {
     "data": {
      "image/png": "[encoded data removed]",
      "text/plain": [
       "<matplotlib.figure.Figure at 0x102715908>"
      ]
     },
     "metadata": {},
     "output_type": "display_data"
    }
   ],
   "source": [
    "# Distribution of the count of tags\n",
    "plt.hist(df_merge['value'].value_counts(), bins=10)\n",
    "plt.show()"
   ]
  },
  {
   "cell_type": "code",
   "execution_count": 21,
   "metadata": {},
   "outputs": [
    {
     "name": "stdout",
     "output_type": "stream",
     "text": [
      "5297\n",
      "956\n"
     ]
    },
    {
     "data": {
      "text/html": [
       "<div>\n",
       "<table border=\"1\" class=\"dataframe\">\n",
       "  <thead>\n",
       "    <tr style=\"text-align: right;\">\n",
       "      <th></th>\n",
       "      <th>tag</th>\n",
       "      <th>count</th>\n",
       "    </tr>\n",
       "  </thead>\n",
       "  <tbody>\n",
       "    <tr>\n",
       "      <th>0</th>\n",
       "      <td>tumeys dvds</td>\n",
       "      <td>640</td>\n",
       "    </tr>\n",
       "    <tr>\n",
       "      <th>1</th>\n",
       "      <td>less than 300 ratings</td>\n",
       "      <td>491</td>\n",
       "    </tr>\n",
       "    <tr>\n",
       "      <th>2</th>\n",
       "      <td>erlends dvds</td>\n",
       "      <td>403</td>\n",
       "    </tr>\n",
       "    <tr>\n",
       "      <th>3</th>\n",
       "      <td>70mm</td>\n",
       "      <td>370</td>\n",
       "    </tr>\n",
       "    <tr>\n",
       "      <th>4</th>\n",
       "      <td>based on a book</td>\n",
       "      <td>369</td>\n",
       "    </tr>\n",
       "  </tbody>\n",
       "</table>\n",
       "</div>"
      ],
      "text/plain": [
       "                     tag  count\n",
       "0            tumeys dvds    640\n",
       "1  less than 300 ratings    491\n",
       "2           erlends dvds    403\n",
       "3                   70mm    370\n",
       "4        based on a book    369"
      ]
     },
     "execution_count": 21,
     "metadata": {},
     "output_type": "execute_result"
    }
   ],
   "source": [
    "# most common tags\n",
    "df_counts = df_merge['value'].value_counts().reset_index()\n",
    "print(len(df_counts))\n",
    "df_counts.columns = ['tag', 'count']\n",
    "df_counts = df_counts[df_counts['count']>10]\n",
    "print(len(df_counts))\n",
    "df_counts.head()"
   ]
  },
  {
   "cell_type": "code",
   "execution_count": 22,
   "metadata": {
    "collapsed": true
   },
   "outputs": [],
   "source": [
    "# pivot the dataframe\n",
    "df_pivot = df_merge[df_merge['value'].isin(df_counts['tag'])].pivot_table(index='itemID', columns='value', aggfunc=len).fillna(0.0)['tagID']"
   ]
  },
  {
   "cell_type": "code",
   "execution_count": 23,
   "metadata": {
    "collapsed": true
   },
   "outputs": [],
   "source": [
    "# compute the intersection\n",
    "intersection = {}\n",
    "for k, v in df_pivot.iterrows():\n",
    "    tags = v[v>0].index\n",
    "    for i in range(len(tags)):\n",
    "        for j in range(i+1, len(tags)):\n",
    "            if tags[i] not in intersection:\n",
    "                intersection[tags[i]] = {}\n",
    "            if tags[j] not in intersection:\n",
    "                intersection[tags[j]] = {}\n",
    "            if tags[j] not in intersection[tags[i]]:\n",
    "                intersection[tags[i]][tags[j]] = 0\n",
    "            if tags[i] not in intersection[tags[j]]:\n",
    "                intersection[tags[j]][tags[i]] = 0\n",
    "            intersection[tags[i]][tags[j]] += 1\n",
    "            intersection[tags[j]][tags[i]] += 1"
   ]
  },
  {
   "cell_type": "code",
   "execution_count": 24,
   "metadata": {},
   "outputs": [
    {
     "name": "stdout",
     "output_type": "stream",
     "text": [
      "scifi 90\n",
      "                   tag  intersection  count  union  symetric  assymetric\n",
      "31   futuristmoviescom            54    136    172  0.313953    0.600000\n",
      "108              space            22     54    122  0.180328    0.244444\n",
      "46                  sf            16     23     97  0.164948    0.177778\n",
      "30              future            17     32    105  0.161905    0.188889\n",
      "116             aliens            22     70    138  0.159420    0.244444\n",
      "85             fantasy            23     79    146  0.157534    0.255556\n",
      "4             dystopia            19     59    130  0.146154    0.211111\n",
      "99              robots            15     36    111  0.135135    0.166667\n",
      "86          far future            13     20     97  0.134021    0.144444\n",
      "74              action            28    161    223  0.125561    0.311111\n",
      "                     tag  intersection  count  union  symetric  assymetric\n",
      "31     futuristmoviescom            54    136    172  0.313953    0.600000\n",
      "83                   dvd            32    202    260  0.123077    0.355556\n",
      "106  seen more than once            28    249    311  0.090032    0.311111\n",
      "74                action            28    161    223  0.125561    0.311111\n",
      "45    seen at the cinema            26    188    252  0.103175    0.288889\n",
      "51           tumeys dvds            24    640    706  0.033994    0.266667\n",
      "85               fantasy            23     79    146  0.157534    0.255556\n",
      "108                space            22     54    122  0.180328    0.244444\n",
      "116               aliens            22     70    138  0.159420    0.244444\n",
      "5           erlends dvds            21    403    472  0.044492    0.233333\n"
     ]
    }
   ],
   "source": [
    "#tag = df_counts.sample(1)['tag'].values[0]\n",
    "tag = 'scifi'\n",
    "#tag = 'time travel'\n",
    "#tag = 'rock'\n",
    "#tag = 'heavy metal'\n",
    "tag_count = df_counts[df_counts['tag']==tag]['count'].values[0]\n",
    "print(tag, tag_count)\n",
    "\n",
    "n_candidates = 10\n",
    "\n",
    "df_results = pd.DataFrame.from_dict(intersection[tag], orient='index').reset_index()\n",
    "df_results.columns = ['tag', 'intersection']\n",
    "df_resuts = df_results.merge(df_counts, how='left', on='tag')\n",
    "df_resuts['union'] = df_resuts['count'] + tag_count - df_results['intersection']\n",
    "df_resuts['symetric'] = df_resuts['intersection']/df_resuts['union']\n",
    "df_resuts['assymetric'] = df_resuts['intersection']/tag_count\n",
    "\n",
    "symetric_tags = list(df_resuts.sort_values('symetric', ascending=False).head(n_candidates)['tag'].values)\n",
    "assymetric_tags = list(df_resuts.sort_values('assymetric', ascending=False).head(n_candidates)['tag'].values)\n",
    "\n",
    "print(df_resuts.sort_values('symetric', ascending=False).head(n_candidates))\n",
    "print(df_resuts.sort_values('assymetric', ascending=False).head(n_candidates))"
   ]
  },
  {
   "cell_type": "code",
   "execution_count": 25,
   "metadata": {},
   "outputs": [
    {
     "data": {
      "text/html": [
       "<div>\n",
       "<table border=\"1\" class=\"dataframe\">\n",
       "  <thead>\n",
       "    <tr style=\"text-align: right;\">\n",
       "      <th></th>\n",
       "      <th>id</th>\n",
       "      <th>title</th>\n",
       "    </tr>\n",
       "  </thead>\n",
       "  <tbody>\n",
       "    <tr>\n",
       "      <th>28</th>\n",
       "      <td>29</td>\n",
       "      <td>La cité des enfants perdus</td>\n",
       "    </tr>\n",
       "    <tr>\n",
       "      <th>31</th>\n",
       "      <td>32</td>\n",
       "      <td>Twelve Monkeys</td>\n",
       "    </tr>\n",
       "    <tr>\n",
       "      <th>188</th>\n",
       "      <td>198</td>\n",
       "      <td>Strange Days</td>\n",
       "    </tr>\n",
       "    <tr>\n",
       "      <th>198</th>\n",
       "      <td>208</td>\n",
       "      <td>Waterworld</td>\n",
       "    </tr>\n",
       "    <tr>\n",
       "      <th>249</th>\n",
       "      <td>260</td>\n",
       "      <td>Star Wars</td>\n",
       "    </tr>\n",
       "  </tbody>\n",
       "</table>\n",
       "</div>"
      ],
      "text/plain": [
       "      id                       title\n",
       "28    29  La cité des enfants perdus\n",
       "31    32              Twelve Monkeys\n",
       "188  198                Strange Days\n",
       "198  208                  Waterworld\n",
       "249  260                   Star Wars"
      ]
     },
     "execution_count": 25,
     "metadata": {},
     "output_type": "execute_result"
    }
   ],
   "source": [
    "suggestions = df_pivot[df_pivot[tag]>0].index\n",
    "df_item[df_item['id'].isin(suggestions)].head()"
   ]
  },
  {
   "cell_type": "code",
   "execution_count": 26,
   "metadata": {},
   "outputs": [
    {
     "data": {
      "text/html": [
       "<div>\n",
       "<table border=\"1\" class=\"dataframe\">\n",
       "  <thead>\n",
       "    <tr style=\"text-align: right;\">\n",
       "      <th></th>\n",
       "      <th>id</th>\n",
       "      <th>title</th>\n",
       "    </tr>\n",
       "  </thead>\n",
       "  <tbody>\n",
       "    <tr>\n",
       "      <th>249</th>\n",
       "      <td>260</td>\n",
       "      <td>Star Wars</td>\n",
       "    </tr>\n",
       "    <tr>\n",
       "      <th>522</th>\n",
       "      <td>541</td>\n",
       "      <td>Blade Runner</td>\n",
       "    </tr>\n",
       "    <tr>\n",
       "      <th>1098</th>\n",
       "      <td>1210</td>\n",
       "      <td>Star Wars: Episode VI - Return of the Jedi</td>\n",
       "    </tr>\n",
       "    <tr>\n",
       "      <th>2404</th>\n",
       "      <td>2628</td>\n",
       "      <td>Star Wars: Episode I - The Phantom Menace</td>\n",
       "    </tr>\n",
       "    <tr>\n",
       "      <th>8813</th>\n",
       "      <td>34405</td>\n",
       "      <td>Serenity</td>\n",
       "    </tr>\n",
       "  </tbody>\n",
       "</table>\n",
       "</div>"
      ],
      "text/plain": [
       "         id                                       title\n",
       "249     260                                   Star Wars\n",
       "522     541                                Blade Runner\n",
       "1098   1210  Star Wars: Episode VI - Return of the Jedi\n",
       "2404   2628   Star Wars: Episode I - The Phantom Menace\n",
       "8813  34405                                    Serenity"
      ]
     },
     "execution_count": 26,
     "metadata": {},
     "output_type": "execute_result"
    }
   ],
   "source": [
    "suggestions = df_pivot[symetric_tags].sum(axis=1).sort_values(ascending=False).head().index\n",
    "df_item[df_item['id'].isin(suggestions)]"
   ]
  },
  {
   "cell_type": "code",
   "execution_count": 27,
   "metadata": {},
   "outputs": [
    {
     "data": {
      "text/html": [
       "<div>\n",
       "<table border=\"1\" class=\"dataframe\">\n",
       "  <thead>\n",
       "    <tr style=\"text-align: right;\">\n",
       "      <th></th>\n",
       "      <th>id</th>\n",
       "      <th>title</th>\n",
       "    </tr>\n",
       "  </thead>\n",
       "  <tbody>\n",
       "    <tr>\n",
       "      <th>249</th>\n",
       "      <td>260</td>\n",
       "      <td>Star Wars</td>\n",
       "    </tr>\n",
       "    <tr>\n",
       "      <th>1085</th>\n",
       "      <td>1196</td>\n",
       "      <td>Star Wars: Episode V - The Empire Strikes Back</td>\n",
       "    </tr>\n",
       "    <tr>\n",
       "      <th>1098</th>\n",
       "      <td>1210</td>\n",
       "      <td>Star Wars: Episode VI - Return of the Jedi</td>\n",
       "    </tr>\n",
       "    <tr>\n",
       "      <th>2350</th>\n",
       "      <td>2571</td>\n",
       "      <td>The Matrix</td>\n",
       "    </tr>\n",
       "    <tr>\n",
       "      <th>8731</th>\n",
       "      <td>33493</td>\n",
       "      <td>Star Wars: Episode III - Revenge of the Sith</td>\n",
       "    </tr>\n",
       "  </tbody>\n",
       "</table>\n",
       "</div>"
      ],
      "text/plain": [
       "         id                                           title\n",
       "249     260                                       Star Wars\n",
       "1085   1196  Star Wars: Episode V - The Empire Strikes Back\n",
       "1098   1210      Star Wars: Episode VI - Return of the Jedi\n",
       "2350   2571                                      The Matrix\n",
       "8731  33493    Star Wars: Episode III - Revenge of the Sith"
      ]
     },
     "execution_count": 27,
     "metadata": {},
     "output_type": "execute_result"
    }
   ],
   "source": [
    "suggestions = df_pivot[assymetric_tags].sum(axis=1).sort_values(ascending=False).head().index\n",
    "df_item[df_item['id'].isin(suggestions)]"
   ]
  },
  {
   "cell_type": "code",
   "execution_count": null,
   "metadata": {
    "collapsed": true
   },
   "outputs": [],
   "source": []
  }
 ],
 "metadata": {
  "anaconda-cloud": {},
  "kernelspec": {
   "display_name": "Python [conda env:py3]",
   "language": "python",
   "name": "conda-env-py3-py"
  },
  "language_info": {
   "codemirror_mode": {
    "name": "ipython",
    "version": 3
   },
   "file_extension": ".py",
   "mimetype": "text/x-python",
   "name": "python",
   "nbconvert_exporter": "python",
   "pygments_lexer": "ipython3",
   "version": "3.6.0"
  }
 },
 "nbformat": 4,
 "nbformat_minor": 1
}
